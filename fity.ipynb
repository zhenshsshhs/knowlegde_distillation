{
 "cells": [
  {
   "cell_type": "code",
   "execution_count": 1,
   "metadata": {},
   "outputs": [
    {
     "name": "stdout",
     "output_type": "stream",
     "text": [
      "['activitynet-100', 'activitynet-200', 'bdd100k', 'caltech101', 'caltech256', 'cifar10', 'cifar100', 'cityscapes', 'coco-2014', 'coco-2017', 'fashion-mnist', 'fiw', 'hmdb51', 'imagenet-2012', 'imagenet-sample', 'kinetics-400', 'kinetics-600', 'kinetics-700', 'kinetics-700-2020', 'kitti', 'kitti-multiview', 'lfw', 'mnist', 'open-images-v6', 'open-images-v7', 'quickstart', 'quickstart-geo', 'quickstart-groups', 'quickstart-video', 'sama-coco', 'ucf101', 'voc-2007', 'voc-2012']\n",
      "Downloading split 'validation' to '/data1/zhengshuaijie/coco-2017/validation' if necessary\n",
      "Found annotations at '/data1/zhengshuaijie/coco-2017/raw/instances_val2017.json'\n",
      "Images already downloaded\n",
      "Existing download of split 'validation' is sufficient\n",
      "Loading 'coco-2017' split 'validation'\n",
      " 100% |███████████████| 5000/5000 [36.7s elapsed, 0s remaining, 126.5 samples/s]      \n",
      "Dataset 'coco-2017-validation' created\n"
     ]
    }
   ],
   "source": [
    "import fiftyone as fo\n",
    "import fiftyone.zoo as foz\n",
    "\n",
    "# List available zoo datasets\n",
    "print(foz.list_zoo_datasets())\n",
    "\n",
    "#\n",
    "# Load the COCO-2017 validation split into a FiftyOne dataset\n",
    "#\n",
    "# This will download the dataset from the web, if necessary\n",
    "#\n",
    "dataset = foz.load_zoo_dataset(\"coco-2017\", split=\"validation\",dataset_dir=\"/data1/zhengshuaijie/coco-2017\")\n",
    "\n",
    "# Give the dataset a new name, and make it persistent so that you can\n",
    "# work with it in future sessions\n",
    "dataset.name = \"coco-2017-validation-example2\"\n",
    "dataset.persistent = True\n",
    "\n"
   ]
  },
  {
   "cell_type": "code",
   "execution_count": 2,
   "metadata": {},
   "outputs": [
    {
     "name": "stdout",
     "output_type": "stream",
     "text": [
      "Name:        coco-2017-validation-example2\n",
      "Media type:  image\n",
      "Num samples: 5000\n",
      "Persistent:  True\n",
      "Tags:        []\n",
      "Sample fields:\n",
      "    id:           fiftyone.core.fields.ObjectIdField\n",
      "    filepath:     fiftyone.core.fields.StringField\n",
      "    tags:         fiftyone.core.fields.ListField(fiftyone.core.fields.StringField)\n",
      "    metadata:     fiftyone.core.fields.EmbeddedDocumentField(fiftyone.core.metadata.ImageMetadata)\n",
      "    ground_truth: fiftyone.core.fields.EmbeddedDocumentField(fiftyone.core.labels.Detections)\n"
     ]
    }
   ],
   "source": [
    "# Print some information about the dataset\n",
    "print(dataset)"
   ]
  },
  {
   "cell_type": "code",
   "execution_count": 3,
   "metadata": {},
   "outputs": [
    {
     "data": {
      "text/html": [
       "\n",
       "<style>\n",
       "@import url(\"https://fonts.googleapis.com/css2?family=Palanquin&display=swap\");\n",
       "\n",
       "body, html {\n",
       "  margin: 0;\n",
       "  padding: 0;\n",
       "  width: 100%;\n",
       "}\n",
       "\n",
       "#focontainer-1cce0bc6-a625-43bb-812b-1d367bdebef1 {\n",
       "  position: relative;\n",
       "  height: 800px;\n",
       "  display: block !important;\n",
       "}\n",
       "#foactivate-1cce0bc6-a625-43bb-812b-1d367bdebef1 {\n",
       "  font-weight: bold;\n",
       "  cursor: pointer;\n",
       "  font-size: 24px;\n",
       "  border-radius: 3px;\n",
       "  text-align: center;\n",
       "  padding: 0.5em;\n",
       "  color: rgb(255, 255, 255);\n",
       "  font-family: \"Palanquin\", sans-serif;\n",
       "  position: absolute;\n",
       "  left: 50%;\n",
       "  top: 50%;\n",
       "  width: 160px;\n",
       "  margin-left: -80px;\n",
       "  margin-top: -23px;\n",
       "  background: hsla(210,11%,15%, 0.8);\n",
       "  border: none;\n",
       "}\n",
       "#foactivate-1cce0bc6-a625-43bb-812b-1d367bdebef1:focus {\n",
       "  outline: none;\n",
       "}\n",
       "#fooverlay-1cce0bc6-a625-43bb-812b-1d367bdebef1 {\n",
       "  width: 100%;\n",
       "  height: 100%;\n",
       "  background: hsla(208, 7%, 46%, 0.7);\n",
       "  position: absolute;\n",
       "  top: 0;\n",
       "  left: 0;\n",
       "  display: none;\n",
       "  cursor: pointer;\n",
       "}\n",
       "</style>\n",
       "\n",
       "<div id=\"focontainer-1cce0bc6-a625-43bb-812b-1d367bdebef1\">\n",
       "   <div id=\"fooverlay-1cce0bc6-a625-43bb-812b-1d367bdebef1\" style=\"display: none;\">\n",
       "      <button id=\"foactivate-1cce0bc6-a625-43bb-812b-1d367bdebef1\" >Activate</button>\n",
       "   </div>\n",
       "   <img src='data:image/jpeg;base64,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' style=\"width: 100%; max-width: 912px;\"/>\n",
       "</div>\n",
       "\n",
       "<script type=\"text/javascript\">\n",
       "   (function() {\n",
       "     var container = document.getElementById(\"focontainer-1cce0bc6-a625-43bb-812b-1d367bdebef1\");\n",
       "     var overlay = document.getElementById(\"fooverlay-1cce0bc6-a625-43bb-812b-1d367bdebef1\");\n",
       "     fetch(`http://localhost:5151/fiftyone`)\n",
       "     .then(() => {\n",
       "        overlay.addEventListener(\"click\", () => {\n",
       "          fetch(`http://localhost:5151/event`, {\n",
       "            method: \"POST\",\n",
       "            body: JSON.stringify({\n",
       "              event: \"reactivate_notebook_cell\",\n",
       "              data: { subscription: \"1cce0bc6-a625-43bb-812b-1d367bdebef1\" },\n",
       "              subscription: \"1cce0bc6-a625-43bb-812b-1d367bdebef1\"\n",
       "            })\n",
       "          })\n",
       "        });\n",
       "        container.addEventListener(\"mouseenter\", () => overlay.style.display = \"block\");\n",
       "        container.addEventListener(\"mouseleave\", () => overlay.style.display = \"none\");\n",
       "     });\n",
       "   })();\n",
       "</script>"
      ],
      "text/plain": [
       "<IPython.core.display.HTML object>"
      ]
     },
     "metadata": {},
     "output_type": "display_data"
    }
   ],
   "source": [
    "# Visualize the in the App\n",
    "session = fo.launch_app(dataset)"
   ]
  },
  {
   "cell_type": "code",
   "execution_count": 4,
   "metadata": {},
   "outputs": [
    {
     "name": "stderr",
     "output_type": "stream",
     "text": [
      "/home/zhengshuaijie/miniconda3/lib/python3.9/site-packages/torchvision/models/_utils.py:208: UserWarning: The parameter 'pretrained' is deprecated since 0.13 and may be removed in the future, please use 'weights' instead.\n",
      "  warnings.warn(\n",
      "/home/zhengshuaijie/miniconda3/lib/python3.9/site-packages/torchvision/models/_utils.py:223: UserWarning: Arguments other than a weight enum or `None` for 'weights' are deprecated since 0.13 and may be removed in the future. The current behavior is equivalent to passing `weights=FasterRCNN_ResNet50_FPN_Weights.COCO_V1`. You can also use `weights=FasterRCNN_ResNet50_FPN_Weights.DEFAULT` to get the most up-to-date weights.\n",
      "  warnings.warn(msg)\n",
      "Downloading: \"https://download.pytorch.org/models/fasterrcnn_resnet50_fpn_coco-258fb6c6.pth\" to /home/zhengshuaijie/.cache/torch/hub/checkpoints/fasterrcnn_resnet50_fpn_coco-258fb6c6.pth\n",
      "100%|██████████| 160M/160M [00:05<00:00, 31.5MB/s] \n"
     ]
    },
    {
     "name": "stdout",
     "output_type": "stream",
     "text": [
      "Model ready\n"
     ]
    }
   ],
   "source": [
    "import torch\n",
    "import torchvision\n",
    "\n",
    "# Run the model on GPU if it is available\n",
    "device = torch.device(\"cuda:0\" if torch.cuda.is_available() else \"cpu\")\n",
    "\n",
    "# Load a pre-trained Faster R-CNN model\n",
    "model = torchvision.models.detection.fasterrcnn_resnet50_fpn(pretrained=True)\n",
    "model.to(device)\n",
    "model.eval()\n",
    "\n",
    "print(\"Model ready\")"
   ]
  },
  {
   "cell_type": "code",
   "execution_count": 5,
   "metadata": {},
   "outputs": [],
   "source": [
    "# Choose a random subset of 100 samples to add predictions to\n",
    "predictions_view = dataset.take(100, seed=51)"
   ]
  },
  {
   "cell_type": "code",
   "execution_count": 9,
   "metadata": {},
   "outputs": [
    {
     "name": "stdout",
     "output_type": "stream",
     "text": [
      " 100% |█████████████████| 100/100 [9.5s elapsed, 0s remaining, 9.4 samples/s]       \n",
      "Finished adding predictions\n"
     ]
    }
   ],
   "source": [
    "from PIL import Image\n",
    "from torchvision.transforms import functional as func\n",
    "\n",
    "import fiftyone as fo\n",
    "\n",
    "# Get class list\n",
    "classes = dataset.default_classes\n",
    "\n",
    "# Add predictions to samples\n",
    "with fo.ProgressBar() as pb:\n",
    "    for sample in pb(predictions_view):\n",
    "        # Load image\n",
    "        image = Image.open(sample.filepath)\n",
    "        image = func.to_tensor(image).to(device)\n",
    "        c, h, w = image.shape\n",
    "\n",
    "        # Perform inference\n",
    "        preds = model([image])[0]\n",
    "        labels = preds[\"labels\"].cpu().detach().numpy()\n",
    "        scores = preds[\"scores\"].cpu().detach().numpy()\n",
    "        boxes = preds[\"boxes\"].cpu().detach().numpy()\n",
    "\n",
    "        # Convert detections to FiftyOne format\n",
    "        detections = []\n",
    "        for label, score, box in zip(labels, scores, boxes):\n",
    "            # Convert to [top-left-x, top-left-y, width, height]\n",
    "            # in relative coordinates in [0, 1] x [0, 1]\n",
    "            x1, y1, x2, y2 = box\n",
    "            rel_box = [x1 / w, y1 / h, (x2 - x1) / w, (y2 - y1) / h]\n",
    "\n",
    "            detections.append(\n",
    "                fo.Detection(\n",
    "                    label=classes[label],\n",
    "                    bounding_box=rel_box,\n",
    "                    confidence=score\n",
    "                )\n",
    "            )\n",
    "\n",
    "        # Save predictions to dataset\n",
    "        sample[\"faster_rcnn\"] = fo.Detections(detections=detections)\n",
    "        sample.save()\n",
    "\n",
    "print(\"Finished adding predictions\")"
   ]
  },
  {
   "cell_type": "code",
   "execution_count": 10,
   "metadata": {},
   "outputs": [
    {
     "data": {
      "text/html": [
       "\n",
       "        <iframe\n",
       "            width=\"100%\"\n",
       "            height=\"800\"\n",
       "            src=\"http://localhost:5151/?notebook=True&subscription=a96de958-7986-4c41-8cd2-f800d46c909f\"\n",
       "            frameborder=\"0\"\n",
       "            allowfullscreen\n",
       "            \n",
       "        ></iframe>\n",
       "        "
      ],
      "text/plain": [
       "<IPython.lib.display.IFrame at 0x7f3ff76a84f0>"
      ]
     },
     "metadata": {},
     "output_type": "display_data"
    },
    {
     "name": "stdout",
     "output_type": "stream",
     "text": [
      "\n",
      "Could not connect session, trying again in 10 seconds\n",
      "\n",
      "\n",
      "Could not connect session, trying again in 10 seconds\n",
      "\n"
     ]
    }
   ],
   "source": [
    "session.view = predictions_view"
   ]
  }
 ],
 "metadata": {
  "kernelspec": {
   "display_name": "base",
   "language": "python",
   "name": "python3"
  },
  "language_info": {
   "codemirror_mode": {
    "name": "ipython",
    "version": 3
   },
   "file_extension": ".py",
   "mimetype": "text/x-python",
   "name": "python",
   "nbconvert_exporter": "python",
   "pygments_lexer": "ipython3",
   "version": "3.9.5"
  },
  "orig_nbformat": 4
 },
 "nbformat": 4,
 "nbformat_minor": 2
}
